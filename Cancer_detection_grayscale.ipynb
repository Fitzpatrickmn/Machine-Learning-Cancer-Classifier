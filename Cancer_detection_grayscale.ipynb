{
 "cells": [
  {
   "cell_type": "code",
   "execution_count": 48,
   "metadata": {},
   "outputs": [],
   "source": [
    "import pandas as pd\n",
    "import numpy as np\n",
    "import os\n",
    "from glob import glob\n",
    "import itertools\n",
    "import random\n",
    "import matplotlib.pylab as plt\n",
    "import sklearn\n",
    "import keras\n",
    "from keras import backend as K\n",
    "from keras.callbacks import Callback, EarlyStopping, ReduceLROnPlateau, ModelCheckpoint\n",
    "from keras.preprocessing.image import ImageDataGenerator\n",
    "from keras.utils.np_utils import to_categorical\n",
    "from keras.models import Sequential, model_from_json\n",
    "from keras.optimizers import SGD, RMSprop, Adam, Adagrad, Adadelta\n",
    "from keras.layers import Dense, Dropout, Activation, Flatten, BatchNormalization, Conv2D, Conv1D, MaxPool2D, MaxPooling2D\n",
    "%matplotlib inline"
   ]
  },
  {
   "cell_type": "code",
   "execution_count": 49,
   "metadata": {
    "id": "vkZ94SBPxeYd"
   },
   "outputs": [
    {
     "name": "stdout",
     "output_type": "stream",
     "text": [
      "../input/breast-histopathology-images/IDC_regular_ps50_idx5/12935/1/12935_idx5_x1851_y1251_class1.png\n",
      "../input/breast-histopathology-images/IDC_regular_ps50_idx5/12935/1/12935_idx5_x1451_y1551_class1.png\n",
      "../input/breast-histopathology-images/IDC_regular_ps50_idx5/12935/1/12935_idx5_x1101_y1301_class1.png\n",
      "../input/breast-histopathology-images/IDC_regular_ps50_idx5/12935/1/12935_idx5_x1301_y1251_class1.png\n",
      "../input/breast-histopathology-images/IDC_regular_ps50_idx5/12935/1/12935_idx5_x1651_y1101_class1.png\n",
      "../input/breast-histopathology-images/IDC_regular_ps50_idx5/12935/1/12935_idx5_x2051_y1401_class1.png\n",
      "../input/breast-histopathology-images/IDC_regular_ps50_idx5/12935/1/12935_idx5_x2051_y2401_class1.png\n",
      "../input/breast-histopathology-images/IDC_regular_ps50_idx5/12935/1/12935_idx5_x1601_y1751_class1.png\n",
      "../input/breast-histopathology-images/IDC_regular_ps50_idx5/12935/1/12935_idx5_x1751_y1251_class1.png\n",
      "../input/breast-histopathology-images/IDC_regular_ps50_idx5/12935/1/12935_idx5_x2001_y1201_class1.png\n"
     ]
    }
   ],
   "source": [
    "imagePatches = glob('../input/breast-histopathology-images/IDC_regular_ps50_idx5/**/*.png', recursive=True)\n",
    "for filename in imagePatches[0:10]:\n",
    "    print(filename)"
   ]
  },
  {
   "cell_type": "code",
   "execution_count": 50,
   "metadata": {
    "id": "z5MOF9PA43Ti"
   },
   "outputs": [],
   "source": [
    "# Two arrays holding images by class type\n",
    "\n",
    "class0 = [] # 0 = no cancer\n",
    "class1 = [] # 1 = cancer\n",
    "\n",
    "for filename in imagePatches:\n",
    "    if filename.endswith(\"class0.png\"):\n",
    "         class0.append(filename)\n",
    "    else:\n",
    "        class1.append(filename)"
   ]
  },
  {
   "cell_type": "code",
   "execution_count": 66,
   "metadata": {
    "id": "3y2zR08xNFQy"
   },
   "outputs": [
    {
     "data": {
      "text/plain": [
       "20000"
      ]
     },
     "execution_count": 66,
     "metadata": {},
     "output_type": "execute_result"
    }
   ],
   "source": [
    "sampled_class0 = random.sample(class0, 20000)\n",
    "sampled_class1 = random.sample(class1, 20000)\n",
    "len(sampled_class0)"
   ]
  },
  {
   "cell_type": "code",
   "execution_count": 67,
   "metadata": {},
   "outputs": [],
   "source": [
    "from matplotlib.image import imread\n",
    "import cv2\n",
    "\n",
    "def get_image_arrays(data, label):\n",
    "    img_arrays = []\n",
    "    for i in data:\n",
    "      if i.endswith('.png'):\n",
    "        img = cv2.imread(i ,cv2.IMREAD_GRAYSCALE)\n",
    "        img_sized = cv2.resize(img, (50, 50), interpolation=cv2.INTER_LINEAR)\n",
    "        img_arrays.append([img_sized, label])\n",
    "    return img_arrays"
   ]
  },
  {
   "cell_type": "code",
   "execution_count": 68,
   "metadata": {},
   "outputs": [],
   "source": [
    "class0_array = get_image_arrays(sampled_class0, 0)\n",
    "class1_array = get_image_arrays(sampled_class1, 1)"
   ]
  },
  {
   "cell_type": "code",
   "execution_count": 69,
   "metadata": {},
   "outputs": [
    {
     "data": {
      "text/plain": [
       "(50, 50)"
      ]
     },
     "execution_count": 69,
     "metadata": {},
     "output_type": "execute_result"
    }
   ],
   "source": [
    "test = cv2.imread('../input/breast-histopathology-images/IDC_regular_ps50_idx5/13689/1/13689_idx5_x801_y1501_class1.png' ,cv2.IMREAD_GRAYSCALE)\n",
    "test.shape"
   ]
  },
  {
   "cell_type": "code",
   "execution_count": 70,
   "metadata": {},
   "outputs": [],
   "source": [
    "combined_data = np.concatenate((class0_array, class1_array))\n",
    "random.seed(42)\n",
    "random.shuffle(combined_data)"
   ]
  },
  {
   "cell_type": "code",
   "execution_count": 71,
   "metadata": {},
   "outputs": [],
   "source": [
    "X = []\n",
    "y = []\n",
    "\n",
    "for features,label in combined_data:\n",
    "    X.append(features)\n",
    "    y.append(label)"
   ]
  },
  {
   "cell_type": "code",
   "execution_count": 72,
   "metadata": {},
   "outputs": [
    {
     "data": {
      "text/plain": [
       "(40000, 50, 50)"
      ]
     },
     "execution_count": 72,
     "metadata": {},
     "output_type": "execute_result"
    }
   ],
   "source": [
    "# reshape X data\n",
    "X = np.array(X).reshape(-1, 50, 50)\n",
    "X.shape"
   ]
  },
  {
   "cell_type": "code",
   "execution_count": 73,
   "metadata": {},
   "outputs": [
    {
     "name": "stdout",
     "output_type": "stream",
     "text": [
      "(30000, 50, 50) (10000, 50, 50) (30000, 2) (10000, 2)\n"
     ]
    }
   ],
   "source": [
    "from sklearn.model_selection import train_test_split\n",
    "\n",
    "X_train, X_test, y_train, y_test = train_test_split(X, y, test_size=0.25, random_state=42)\n",
    "y_train = to_categorical(y_train)\n",
    "y_test = to_categorical(y_test)\n",
    "print(X_train.shape, X_test.shape, y_train.shape, y_test.shape)"
   ]
  },
  {
   "cell_type": "code",
   "execution_count": 74,
   "metadata": {},
   "outputs": [],
   "source": [
    "#create model\n",
    "model_grayscale = Sequential()\n",
    "\n",
    "#add model layers\n",
    "model_grayscale.add(Conv1D(64, kernel_size=3, activation='relu', input_shape=(50,50)))\n",
    "model_grayscale.add(Conv1D(32, kernel_size=3, activation='relu'))\n",
    "model_grayscale.add(Flatten())\n",
    "model_grayscale.add(Dense(2, activation='softmax'))"
   ]
  },
  {
   "cell_type": "code",
   "execution_count": 75,
   "metadata": {},
   "outputs": [
    {
     "name": "stdout",
     "output_type": "stream",
     "text": [
      "Model: \"sequential_9\"\n",
      "_________________________________________________________________\n",
      "Layer (type)                 Output Shape              Param #   \n",
      "=================================================================\n",
      "conv1d_6 (Conv1D)            (None, 48, 64)            9664      \n",
      "_________________________________________________________________\n",
      "conv1d_7 (Conv1D)            (None, 46, 32)            6176      \n",
      "_________________________________________________________________\n",
      "flatten_6 (Flatten)          (None, 1472)              0         \n",
      "_________________________________________________________________\n",
      "dense_6 (Dense)              (None, 2)                 2946      \n",
      "=================================================================\n",
      "Total params: 18,786\n",
      "Trainable params: 18,786\n",
      "Non-trainable params: 0\n",
      "_________________________________________________________________\n"
     ]
    }
   ],
   "source": [
    "model_grayscale.summary()"
   ]
  },
  {
   "cell_type": "code",
   "execution_count": 76,
   "metadata": {},
   "outputs": [],
   "source": [
    "#lesrning rsate for sgd rmsprop and adam, momentum \n",
    "model_grayscale.compile(optimizer='SGD', loss='categorical_crossentropy', metrics=['accuracy'])"
   ]
  },
  {
   "cell_type": "code",
   "execution_count": 77,
   "metadata": {},
   "outputs": [
    {
     "name": "stdout",
     "output_type": "stream",
     "text": [
      "Train on 30000 samples, validate on 10000 samples\n",
      "Epoch 1/3\n",
      "30000/30000 [==============================] - 7s 217us/step - loss: 1.4230 - accuracy: 0.8198 - val_loss: 0.4514 - val_accuracy: 0.8424\n",
      "Epoch 2/3\n",
      "30000/30000 [==============================] - 7s 229us/step - loss: 0.4338 - accuracy: 0.8464 - val_loss: 0.4337 - val_accuracy: 0.8435\n",
      "Epoch 3/3\n",
      "30000/30000 [==============================] - 7s 228us/step - loss: 0.4280 - accuracy: 0.8468 - val_loss: 0.4330 - val_accuracy: 0.8435\n"
     ]
    },
    {
     "data": {
      "text/plain": [
       "<keras.callbacks.callbacks.History at 0x7fea4e051e80>"
      ]
     },
     "execution_count": 77,
     "metadata": {},
     "output_type": "execute_result"
    }
   ],
   "source": [
    "model_grayscale.fit(X_train, y_train, validation_data=(X_test, y_test), epochs=3)"
   ]
  },
  {
   "cell_type": "code",
   "execution_count": 84,
   "metadata": {},
   "outputs": [
    {
     "name": "stdout",
     "output_type": "stream",
     "text": [
      "Neural Network\n",
      "- Loss: 0.43301055665016175\n",
      "- Accuracy: 84.350002%\n"
     ]
    }
   ],
   "source": [
    "model_loss, model_accuracy = model_grayscale.evaluate(\n",
    "    X_test, y_test, verbose=3)\n",
    "print(f\"Neural Network\\n- Accuracy: {(model_accuracy*100):2f}%\\n- Loss: {model_loss}\")"
   ]
  },
  {
   "cell_type": "code",
   "execution_count": null,
   "metadata": {},
   "outputs": [],
   "source": []
  }
 ],
 "metadata": {
  "colab": {
   "machine_shape": "hm",
   "name": "Image_Cancer_Classifier.ipynb",
   "provenance": []
  },
  "kernelspec": {
   "display_name": "Python 3",
   "language": "python",
   "name": "python3"
  },
  "language_info": {
   "codemirror_mode": {
    "name": "ipython",
    "version": 3
   },
   "file_extension": ".py",
   "mimetype": "text/x-python",
   "name": "python",
   "nbconvert_exporter": "python",
   "pygments_lexer": "ipython3",
   "version": "3.7.3"
  }
 },
 "nbformat": 4,
 "nbformat_minor": 4
}
